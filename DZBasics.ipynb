{
 "cells": [
  {
   "cell_type": "code",
   "execution_count": 23,
   "metadata": {},
   "outputs": [
    {
     "name": "stdout",
     "output_type": "stream",
     "text": [
      "Задание 1\n",
      "Фраза 2 длиннее Фразы 1\n"
     ]
    }
   ],
   "source": [
    "print('Задание 1')\n",
    "\n",
    "Фраза_1 = 'Когда снежинку, что легко летает'\n",
    "Фраза_2 = 'Как звездочка, упавшая скользя...'\n",
    "\n",
    "if len(Фраза_1) > len(Фраза_2):\n",
    "    print('Фраза 1 длиннее Фразы 2')\n",
    "elif len(Фраза_1) < len(Фраза_2):\n",
    "    print('Фраза 2 длиннее Фразы 1')\n",
    "elif len(Фраза_1) == len(Фраза_2):\n",
    "    print('Фразы одинаковой длины')"
   ]
  },
  {
   "cell_type": "code",
   "execution_count": 45,
   "metadata": {},
   "outputs": [
    {
     "name": "stdout",
     "output_type": "stream",
     "text": [
      "Задание 2. Только для нашей эры\n",
      "Обычный год\n"
     ]
    }
   ],
   "source": [
    "print('Задание 2. Только для Нашей эры')\n",
    "\n",
    "year = 1243\n",
    "\n",
    "if year >= 1582:\n",
    "    if year % 400 == 0:\n",
    "        print('Високосный год')\n",
    "    elif year % 4 == 0 and not year % 100 == 0:\n",
    "        print('Високосный год')\n",
    "    else:\n",
    "        print('Обычный год')    \n",
    "elif 1582 > year > 0:\n",
    "        if year % 4 == 0 and year != 4:\n",
    "            print('Високосный год')    \n",
    "        else:\n",
    "            print('Обычный год')\n"
   ]
  },
  {
   "cell_type": "code",
   "execution_count": 3,
   "metadata": {},
   "outputs": [
    {
     "name": "stdout",
     "output_type": "stream",
     "text": [
      "Задание 3\n",
      "Введите свой месяц май\n",
      "Введите свой день 26\n",
      "Ваш знак зодиака: Близнецы\n"
     ]
    }
   ],
   "source": [
    "print('Задание 3')\n",
    "\n",
    "month = input('Введите свой месяц ')\n",
    "date = int(input('Введите свой день '))\n",
    "if (date >= 20 and date <=31 and month == \"январь\") or (date >= 1 and date <= 18 and month == \"февраль\"):\n",
    "    print('Ваш знак зодиака: Водолей')\n",
    "elif (date >= 19 and date <=29 and month == \"февраль\") or (date >= 1 and date <= 20 and month == \"март\"):\n",
    "    print('Ваш знак зодиака: Рыбы')\n",
    "elif (date >= 21 and date <=31 and month == \"март\") or (date >= 1 and date <= 19 and month == \"апрель\"):\n",
    "    print('Ваш знак зодиака: Овен')\n",
    "elif (date >= 20 and date <=31 and month == \"апрель\") or (date >= 1 and date <= 20 and month == \"май\"):\n",
    "    print('Ваш знак зодиака: Телец')\n",
    "elif (date >= 21 and date <=31 and month == \"май\") or (date >= 1 and date <= 20 and month == \"июнь\"):\n",
    "    print('Ваш знак зодиака: Близнецы')\n",
    "elif (date >= 21 and date <=31 and month == \"июнь\") or (date >= 1 and date <= 22 and month == \"июль\"):\n",
    "    print('Ваш знак зодиака: Рак')\n",
    "elif (date >= 23 and date <=31 and month == \"июль\") or (date >= 1 and date <= 22 and month == \"август\"):\n",
    "    print('Ваш знак зодиака: Лев')\n",
    "elif (date >= 23 and date <=31 and month == \"август\") or (date >= 1 and date <= 22 and month == \"сентябрь\"):\n",
    "    print('Ваш знак зодиака: Дева')\n",
    "elif (date >= 23 and date <=31 and month == \"сентябрь\") or (date >= 1 and date <= 22 and month == \"октябрь\"):\n",
    "    print('Ваш знак зодиака: Весы')\n",
    "elif (date >= 23 and date <=31 and month == \"октябрь\") or (date >= 1 and date <= 21 and month == \"ноябрь\"):\n",
    "    print('Ваш знак зодиака: Скорпион')\n",
    "elif (date >= 22 and date <=31 and month == \"ноябрь\") or (date >= 1 and date <= 21 and month == \"декабрь\"):\n",
    "    print('Ваш знак зодиака: Стрелец')\n",
    "elif (date >= 22 and date <=31 and month == \"декабрь\") or (date >= 1 and date <= 19 and month == \"январь\"):\n",
    "    print('Ваш знак зодиака: Козерог')"
   ]
  },
  {
   "cell_type": "code",
   "execution_count": 50,
   "metadata": {},
   "outputs": [
    {
     "name": "stdout",
     "output_type": "stream",
     "text": [
      "Задание 4\n",
      "Коробка №2\n"
     ]
    }
   ],
   "source": [
    "print('Задание 4')\n",
    "\n",
    "width = 55\n",
    "length = 195\n",
    "height = 45\n",
    "\n",
    "if (width < 15 and length < 15 and height < 15):\n",
    "    print('Коробка №1')\n",
    "elif ((50 > width > 15) or (50 > length > 15) or (50 > height > 15)) and length <=200:\n",
    "        print('Коробка №2')    \n",
    "elif (length > 200):\n",
    "        print('Упаковка для лыж')\n",
    "else:\n",
    "    print('Стандартная коробка №3')"
   ]
  },
  {
   "cell_type": "code",
   "execution_count": 47,
   "metadata": {},
   "outputs": [
    {
     "name": "stdout",
     "output_type": "stream",
     "text": [
      "Задание 5\n",
      "Введите номер билета из 6 цифр: 123654\n",
      "Обычный\n"
     ]
    }
   ],
   "source": [
    "print('Задание 5')\n",
    "\n",
    "bilet = input(\"Введите номер билета из 6 цифр: \")\n",
    "numbers = list(bilet)\n",
    "numbers = [int(i) for i in numbers]\n",
    "if (sum(numbers[:3]) == sum(numbers[3:])):\n",
    "    print(\"Счастливый\")\n",
    "else:\n",
    "    print(\"Обычный\")"
   ]
  }
 ],
 "metadata": {
  "kernelspec": {
   "display_name": "Python 3",
   "language": "python",
   "name": "python3"
  },
  "language_info": {
   "codemirror_mode": {
    "name": "ipython",
    "version": 3
   },
   "file_extension": ".py",
   "mimetype": "text/x-python",
   "name": "python",
   "nbconvert_exporter": "python",
   "pygments_lexer": "ipython3",
   "version": "3.8.3"
  }
 },
 "nbformat": 4,
 "nbformat_minor": 4
}
