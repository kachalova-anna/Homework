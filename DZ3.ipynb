{
 "cells": [
  {
   "cell_type": "code",
   "execution_count": 1,
   "metadata": {},
   "outputs": [
    {
     "name": "stdout",
     "output_type": "stream",
     "text": [
      "l\n"
     ]
    }
   ],
   "source": [
    "# Задание 1. выводить на экран: среднюю букву, если число букв в слове нечетное; две средних буквы, если число букв четное.\n",
    "\n",
    "word = 'hello'\n",
    "\n",
    "if len(word) % 2 == 0:\n",
    "    print(word[(len(word)//2-1):(len(word)//2+1)])\n",
    "else:\n",
    "    print(word[(len(word)//2)])"
   ]
  },
  {
   "cell_type": "code",
   "execution_count": 2,
   "metadata": {},
   "outputs": [
    {
     "name": "stdout",
     "output_type": "stream",
     "text": [
      "Введите число: 0\n",
      "Результат: \n",
      "0\n"
     ]
    }
   ],
   "source": [
    "# Задание 2. Запрашивает у пользователя числа (по одному за раз) и после первого нуля выводит сумму всех ранее введенных чисел.\n",
    "\n",
    "n = int(input('Введите число: '))\n",
    "sum_ = 0\n",
    "\n",
    "while n != 0:\n",
    "    sum_ += n\n",
    "    n = int(input('Введите число: '))\n",
    "print('Результат: ', sum_, sep='\\n')\n",
    "    "
   ]
  },
  {
   "cell_type": "code",
   "execution_count": 3,
   "metadata": {},
   "outputs": [
    {
     "name": "stdout",
     "output_type": "stream",
     "text": [
      "Идеальные пары:\n",
      "Alex и Anna\n",
      "Arthur и Emma\n",
      "Den и Kate\n",
      "John и Kira\n",
      "Peter и Liza\n",
      "Richard и Trisha\n"
     ]
    }
   ],
   "source": [
    "# Задание 3. Агенство знакомств.\n",
    "\n",
    "boys = ['Peter', 'Alex', 'John', 'Arthur', 'Richard', 'Den']\n",
    "girls = ['Kate', 'Liza', 'Kira', 'Emma', 'Trisha', 'Anna']\n",
    "\n",
    "boys_ = sorted(boys)\n",
    "girls_ = sorted(girls)\n",
    "name = zip(boys_, girls_)\n",
    "\n",
    "# list(name)\n",
    "\n",
    "if len(boys) == len(girls):\n",
    "    print('Идеальные пары:')\n",
    "    for man, wman in name:\n",
    "        print(f'{man} и {wman}')\n",
    "else:\n",
    "    print('Внимание, кто-то может остаться без пары!')"
   ]
  },
  {
   "cell_type": "code",
   "execution_count": 4,
   "metadata": {},
   "outputs": [
    {
     "name": "stdout",
     "output_type": "stream",
     "text": [
      "Средняя температура в странах:\n",
      "Thailand - 23.9 C\n",
      "Germany - 13.8 C\n",
      "Russia - 3.7 C\n",
      "Poland - 12.0 C\n"
     ]
    }
   ],
   "source": [
    "# Задание 4. Рассчитать среднюю температуру за период в Цельсиях(!) для каждой страны.\n",
    "# (1 °F − 32) × 5/9 = -17,22 °C\n",
    "\n",
    "\n",
    "countries_temperature = [\n",
    "    ['Thailand', [75.2, 77, 78.8, 73.4, 68, 75.2, 77]],\n",
    "    ['Germany', [57.2, 55.4, 59, 59, 53.6]],\n",
    "    ['Russia', [35.6, 37.4, 39.2, 41, 42.8, 39.2, 35.6]],\n",
    "    ['Poland', [50, 50, 53.6, 57.2, 55.4, 55.4]]\n",
    "]\n",
    "\n",
    "print('Средняя температура в странах:')\n",
    "for country, temp in countries_temperature:\n",
    "    sum_ = sum(temp)\n",
    "    t_average = sum_ / len(temp)\n",
    "    t_C = round((t_average - 32)*5/9, 1)\n",
    "    print(f'{country} - {t_C} C')     \n"
   ]
  }
 ],
 "metadata": {
  "kernelspec": {
   "display_name": "Python 3",
   "language": "python",
   "name": "python3"
  },
  "language_info": {
   "codemirror_mode": {
    "name": "ipython",
    "version": 3
   },
   "file_extension": ".py",
   "mimetype": "text/x-python",
   "name": "python",
   "nbconvert_exporter": "python",
   "pygments_lexer": "ipython3",
   "version": "3.8.3"
  }
 },
 "nbformat": 4,
 "nbformat_minor": 4
}
